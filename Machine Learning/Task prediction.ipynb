{
 "cells": [
  {
   "cell_type": "code",
   "execution_count": 1,
   "metadata": {},
   "outputs": [
    {
     "name": "stdout",
     "output_type": "stream",
     "text": [
      "WARNING:tensorflow:From c:\\Users\\kshit\\AppData\\Local\\Programs\\Python\\Python311\\Lib\\site-packages\\keras\\src\\losses.py:2976: The name tf.losses.sparse_softmax_cross_entropy is deprecated. Please use tf.compat.v1.losses.sparse_softmax_cross_entropy instead.\n",
      "\n",
      "WARNING:tensorflow:From c:\\Users\\kshit\\AppData\\Local\\Programs\\Python\\Python311\\Lib\\site-packages\\keras\\src\\backend.py:1398: The name tf.executing_eagerly_outside_functions is deprecated. Please use tf.compat.v1.executing_eagerly_outside_functions instead.\n",
      "\n"
     ]
    },
    {
     "name": "stderr",
     "output_type": "stream",
     "text": [
      "c:\\Users\\kshit\\AppData\\Local\\Programs\\Python\\Python311\\Lib\\site-packages\\sklearn\\base.py:464: UserWarning: X does not have valid feature names, but StandardScaler was fitted with feature names\n",
      "  warnings.warn(\n"
     ]
    },
    {
     "name": "stdout",
     "output_type": "stream",
     "text": [
      "1/1 [==============================] - 0s 338ms/step\n",
      "\n",
      "Predicted Priority: 3\n"
     ]
    }
   ],
   "source": [
    "\n",
    "import tensorflow as tf\n",
    "from tensorflow.keras.models import load_model\n",
    "from tensorflow.keras.preprocessing.text import Tokenizer\n",
    "from tensorflow.keras.preprocessing.sequence import pad_sequences\n",
    "import pickle\n",
    "from sklearn.preprocessing import StandardScaler\n",
    "import numpy as np\n",
    "\n",
    "def load_and_predict(model_path, tokenizer, scaler, user_title, user_num_people):\n",
    "    model = tf.keras.models.load_model(model_path)\n",
    "\n",
    "    title_sequence = tokenizer.texts_to_sequences([user_title])\n",
    "    title_padded = pad_sequences(title_sequence, padding='post', maxlen=model.input_shape[0][1])\n",
    "\n",
    "    num_people_scaled = scaler.transform([[user_num_people]])\n",
    "\n",
    "    prediction = model.predict({'text_input': title_padded, 'num_people_input': num_people_scaled})\n",
    "    predicted_class = np.argmax(prediction, axis=1).item()\n",
    "\n",
    "    return predicted_class + 1  \n",
    "\n",
    "with open('tokenizer.pkl', 'rb') as tokenizer_file:\n",
    "    tokenizer = pickle.load(tokenizer_file)\n",
    "\n",
    "with open('scaler.pkl', 'rb') as scaler_file:\n",
    "    scaler = pickle.load(scaler_file)\n",
    "\n",
    "while True:\n",
    "    user_title = input(\"Enter the task title (or enter '0' to exit): \")\n",
    "\n",
    "    if user_title == '0':\n",
    "        break\n",
    "\n",
    "    user_num_people = float(input(\"Enter the number of people: \"))\n",
    "\n",
    "    predicted_priority = load_and_predict(\n",
    "        model_path='task_priority_model.keras',\n",
    "        tokenizer=tokenizer,\n",
    "        scaler=scaler,\n",
    "        user_title=user_title,\n",
    "        user_num_people=user_num_people\n",
    "    )\n",
    "\n",
    "    print(f\"\\nPredicted Priority: {predicted_priority}\")\n"
   ]
  }
 ],
 "metadata": {
  "kernelspec": {
   "display_name": "Python 3",
   "language": "python",
   "name": "python3"
  },
  "language_info": {
   "codemirror_mode": {
    "name": "ipython",
    "version": 3
   },
   "file_extension": ".py",
   "mimetype": "text/x-python",
   "name": "python",
   "nbconvert_exporter": "python",
   "pygments_lexer": "ipython3",
   "version": "3.11.4"
  }
 },
 "nbformat": 4,
 "nbformat_minor": 2
}
